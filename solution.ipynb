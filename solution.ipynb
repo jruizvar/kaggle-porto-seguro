{
 "cells": [
  {
   "cell_type": "markdown",
   "id": "ea61a587",
   "metadata": {},
   "source": [
    "# [Porto Seguro Data Challenge | Kaggle](https://www.kaggle.com/c/porto-seguro-data-challenge)\n",
    "\n",
    "## Objetivo  \n",
    "\n",
    "O objetivo é construir um modelo de propensão que prediz a probabilidade de aquisição de um produto.\n",
    "\n",
    "## Conteúdo\n",
    "\n",
    "1. Leitura dos dados\n",
    "  - Dataframe com Python Pandas\n",
    "2. Identificação da variável resposta (*y*)\n",
    "  - Graficar distribuição\n",
    "3. Exploração de variáveis explicativas (*X*)\n",
    "  - Valores faltantes\n",
    "  - Valores únicos\n",
    "4. Modelo aleatório\n",
    "  - Classificador aleatório\n",
    "  - Métrica F1 score\n",
    "5. Treinamento do modelo\n",
    "  - Definir transformações\n",
    "  - Balanceamento de amostra\n",
    "  - Escolher algoritmo de classificação\n",
    "  - Execução do pipeline\n",
    "6. Criar arquivo de previsões\n",
    "  - Submeter solução para a plataforma do Kaggle"
   ]
  },
  {
   "cell_type": "markdown",
   "id": "068eb221",
   "metadata": {},
   "source": [
    "# 1. Leitura dos dados"
   ]
  },
  {
   "cell_type": "code",
   "execution_count": 1,
   "id": "40495b5d",
   "metadata": {},
   "outputs": [],
   "source": [
    "import pandas as pd"
   ]
  },
  {
   "cell_type": "code",
   "execution_count": 2,
   "id": "851d5d7f",
   "metadata": {},
   "outputs": [
    {
     "data": {
      "text/plain": [
       "(14123, 69)"
      ]
     },
     "execution_count": 2,
     "metadata": {},
     "output_type": "execute_result"
    }
   ],
   "source": [
    "path = 'data/train.csv.zip'\n",
    "\n",
    "kargs = {\n",
    "    'index_col': 'id',\n",
    "    'na_values': -999.,\n",
    "}\n",
    "df = pd.read_csv(path, **kargs)\n",
    "df.shape"
   ]
  },
  {
   "cell_type": "code",
   "execution_count": 3,
   "id": "984787ef",
   "metadata": {},
   "outputs": [
    {
     "data": {
      "text/html": [
       "<div>\n",
       "<style scoped>\n",
       "    .dataframe tbody tr th:only-of-type {\n",
       "        vertical-align: middle;\n",
       "    }\n",
       "\n",
       "    .dataframe tbody tr th {\n",
       "        vertical-align: top;\n",
       "    }\n",
       "\n",
       "    .dataframe thead th {\n",
       "        text-align: right;\n",
       "    }\n",
       "</style>\n",
       "<table border=\"1\" class=\"dataframe\">\n",
       "  <thead>\n",
       "    <tr style=\"text-align: right;\">\n",
       "      <th></th>\n",
       "      <th>var1</th>\n",
       "      <th>var2</th>\n",
       "      <th>var3</th>\n",
       "      <th>var4</th>\n",
       "      <th>var5</th>\n",
       "      <th>var6</th>\n",
       "      <th>var7</th>\n",
       "      <th>var8</th>\n",
       "      <th>var9</th>\n",
       "      <th>var10</th>\n",
       "      <th>...</th>\n",
       "      <th>var60</th>\n",
       "      <th>var61</th>\n",
       "      <th>var62</th>\n",
       "      <th>var63</th>\n",
       "      <th>var64</th>\n",
       "      <th>var65</th>\n",
       "      <th>var66</th>\n",
       "      <th>var67</th>\n",
       "      <th>var68</th>\n",
       "      <th>y</th>\n",
       "    </tr>\n",
       "    <tr>\n",
       "      <th>id</th>\n",
       "      <th></th>\n",
       "      <th></th>\n",
       "      <th></th>\n",
       "      <th></th>\n",
       "      <th></th>\n",
       "      <th></th>\n",
       "      <th></th>\n",
       "      <th></th>\n",
       "      <th></th>\n",
       "      <th></th>\n",
       "      <th></th>\n",
       "      <th></th>\n",
       "      <th></th>\n",
       "      <th></th>\n",
       "      <th></th>\n",
       "      <th></th>\n",
       "      <th></th>\n",
       "      <th></th>\n",
       "      <th></th>\n",
       "      <th></th>\n",
       "      <th></th>\n",
       "    </tr>\n",
       "  </thead>\n",
       "  <tbody>\n",
       "    <tr>\n",
       "      <th>1</th>\n",
       "      <td>18</td>\n",
       "      <td>19.0</td>\n",
       "      <td>2853.0</td>\n",
       "      <td>29442.0</td>\n",
       "      <td>1386</td>\n",
       "      <td>2435.0</td>\n",
       "      <td>35.0</td>\n",
       "      <td>NaN</td>\n",
       "      <td>3.0</td>\n",
       "      <td>63.0</td>\n",
       "      <td>...</td>\n",
       "      <td>0.311441</td>\n",
       "      <td>0.142303</td>\n",
       "      <td>0.056146</td>\n",
       "      <td>0.632694</td>\n",
       "      <td>0.024054</td>\n",
       "      <td>0.253356</td>\n",
       "      <td>0.00603</td>\n",
       "      <td>0.132353</td>\n",
       "      <td>0.139706</td>\n",
       "      <td>1</td>\n",
       "    </tr>\n",
       "    <tr>\n",
       "      <th>8</th>\n",
       "      <td>4</td>\n",
       "      <td>110.0</td>\n",
       "      <td>1986.0</td>\n",
       "      <td>13684.0</td>\n",
       "      <td>7189</td>\n",
       "      <td>NaN</td>\n",
       "      <td>NaN</td>\n",
       "      <td>17.0</td>\n",
       "      <td>3.0</td>\n",
       "      <td>63.0</td>\n",
       "      <td>...</td>\n",
       "      <td>NaN</td>\n",
       "      <td>NaN</td>\n",
       "      <td>0.070991</td>\n",
       "      <td>0.773966</td>\n",
       "      <td>0.019315</td>\n",
       "      <td>NaN</td>\n",
       "      <td>NaN</td>\n",
       "      <td>0.147059</td>\n",
       "      <td>0.106618</td>\n",
       "      <td>0</td>\n",
       "    </tr>\n",
       "    <tr>\n",
       "      <th>30</th>\n",
       "      <td>0</td>\n",
       "      <td>39.0</td>\n",
       "      <td>1019.0</td>\n",
       "      <td>10232.0</td>\n",
       "      <td>678</td>\n",
       "      <td>791.0</td>\n",
       "      <td>16.0</td>\n",
       "      <td>NaN</td>\n",
       "      <td>3.0</td>\n",
       "      <td>63.0</td>\n",
       "      <td>...</td>\n",
       "      <td>NaN</td>\n",
       "      <td>0.200814</td>\n",
       "      <td>0.051046</td>\n",
       "      <td>0.980827</td>\n",
       "      <td>0.018536</td>\n",
       "      <td>NaN</td>\n",
       "      <td>NaN</td>\n",
       "      <td>0.382353</td>\n",
       "      <td>0.242647</td>\n",
       "      <td>0</td>\n",
       "    </tr>\n",
       "    <tr>\n",
       "      <th>43</th>\n",
       "      <td>20</td>\n",
       "      <td>39.0</td>\n",
       "      <td>1751.0</td>\n",
       "      <td>2689.0</td>\n",
       "      <td>8235</td>\n",
       "      <td>1042.0</td>\n",
       "      <td>13.0</td>\n",
       "      <td>10.0</td>\n",
       "      <td>1.0</td>\n",
       "      <td>14.0</td>\n",
       "      <td>...</td>\n",
       "      <td>NaN</td>\n",
       "      <td>0.352379</td>\n",
       "      <td>0.044301</td>\n",
       "      <td>0.951564</td>\n",
       "      <td>0.023684</td>\n",
       "      <td>0.363370</td>\n",
       "      <td>0.00201</td>\n",
       "      <td>0.147059</td>\n",
       "      <td>0.132353</td>\n",
       "      <td>0</td>\n",
       "    </tr>\n",
       "    <tr>\n",
       "      <th>46</th>\n",
       "      <td>7</td>\n",
       "      <td>44.0</td>\n",
       "      <td>2262.0</td>\n",
       "      <td>29428.0</td>\n",
       "      <td>6031</td>\n",
       "      <td>304.0</td>\n",
       "      <td>16.0</td>\n",
       "      <td>NaN</td>\n",
       "      <td>3.0</td>\n",
       "      <td>63.0</td>\n",
       "      <td>...</td>\n",
       "      <td>0.021226</td>\n",
       "      <td>0.226161</td>\n",
       "      <td>0.059125</td>\n",
       "      <td>0.906155</td>\n",
       "      <td>0.020733</td>\n",
       "      <td>NaN</td>\n",
       "      <td>NaN</td>\n",
       "      <td>0.455882</td>\n",
       "      <td>0.132353</td>\n",
       "      <td>1</td>\n",
       "    </tr>\n",
       "  </tbody>\n",
       "</table>\n",
       "<p>5 rows × 69 columns</p>\n",
       "</div>"
      ],
      "text/plain": [
       "    var1   var2    var3     var4  var5    var6  var7  var8  var9  var10  ...  \\\n",
       "id                                                                       ...   \n",
       "1     18   19.0  2853.0  29442.0  1386  2435.0  35.0   NaN   3.0   63.0  ...   \n",
       "8      4  110.0  1986.0  13684.0  7189     NaN   NaN  17.0   3.0   63.0  ...   \n",
       "30     0   39.0  1019.0  10232.0   678   791.0  16.0   NaN   3.0   63.0  ...   \n",
       "43    20   39.0  1751.0   2689.0  8235  1042.0  13.0  10.0   1.0   14.0  ...   \n",
       "46     7   44.0  2262.0  29428.0  6031   304.0  16.0   NaN   3.0   63.0  ...   \n",
       "\n",
       "       var60     var61     var62     var63     var64     var65    var66  \\\n",
       "id                                                                        \n",
       "1   0.311441  0.142303  0.056146  0.632694  0.024054  0.253356  0.00603   \n",
       "8        NaN       NaN  0.070991  0.773966  0.019315       NaN      NaN   \n",
       "30       NaN  0.200814  0.051046  0.980827  0.018536       NaN      NaN   \n",
       "43       NaN  0.352379  0.044301  0.951564  0.023684  0.363370  0.00201   \n",
       "46  0.021226  0.226161  0.059125  0.906155  0.020733       NaN      NaN   \n",
       "\n",
       "       var67     var68  y  \n",
       "id                         \n",
       "1   0.132353  0.139706  1  \n",
       "8   0.147059  0.106618  0  \n",
       "30  0.382353  0.242647  0  \n",
       "43  0.147059  0.132353  0  \n",
       "46  0.455882  0.132353  1  \n",
       "\n",
       "[5 rows x 69 columns]"
      ]
     },
     "execution_count": 3,
     "metadata": {},
     "output_type": "execute_result"
    }
   ],
   "source": [
    "df.head()"
   ]
  },
  {
   "cell_type": "markdown",
   "id": "d6cb909a",
   "metadata": {},
   "source": [
    "# 2. Identificação da variável resposta"
   ]
  },
  {
   "cell_type": "code",
   "execution_count": 4,
   "id": "d4a5d1dd",
   "metadata": {},
   "outputs": [
    {
     "data": {
      "image/png": "[encoded data removed]",
      "text/plain": [
       "<Figure size 432x288 with 1 Axes>"
      ]
     },
     "metadata": {
      "needs_background": "light"
     },
     "output_type": "display_data"
    }
   ],
   "source": [
    "kargs = {\n",
    "    'rot': 0,\n",
    "    'xlabel': 'variável resposta',\n",
    "    'ylabel': 'contagem',\n",
    "}\n",
    "\n",
    "df.y.value_counts().plot.bar(**kargs);"
   ]
  },
  {
   "cell_type": "markdown",
   "id": "41bdc4b9",
   "metadata": {},
   "source": [
    "# 3. Exploração de variáveis explicativas"
   ]
  },
  {
   "cell_type": "code",
   "execution_count": 5,
   "id": "68d881a0",
   "metadata": {},
   "outputs": [],
   "source": [
    "import missingno"
   ]
  },
  {
   "cell_type": "code",
   "execution_count": 6,
   "id": "7f23fddb",
   "metadata": {},
   "outputs": [
    {
     "data": {
      "image/png": "[encoded data removed]",
      "text/plain": [
       "<Figure size 1800x720 with 2 Axes>"
      ]
     },
     "metadata": {
      "needs_background": "light"
     },
     "output_type": "display_data"
    }
   ],
   "source": [
    "missingno.matrix(df.loc[:, :'var9']);"
   ]
  },
  {
   "cell_type": "code",
   "execution_count": 7,
   "id": "1c785386",
   "metadata": {},
   "outputs": [],
   "source": [
    "def plot_hist(df, col):\n",
    "    bins = df[col].nunique()\n",
    "    kargs = {\n",
    "        'figsize': (10, 5),\n",
    "    }\n",
    "    ax = df[col].plot.hist(**kargs)\n",
    "    ax.set_title(f'Valores únicos: {bins}')\n",
    "    ax.set_xlabel(col)"
   ]
  },
  {
   "cell_type": "code",
   "execution_count": 8,
   "id": "078b4967",
   "metadata": {},
   "outputs": [
    {
     "data": {
      "image/png": "[encoded data removed]",
      "text/plain": [
       "<Figure size 720x360 with 1 Axes>"
      ]
     },
     "metadata": {
      "needs_background": "light"
     },
     "output_type": "display_data"
    }
   ],
   "source": [
    "plot_hist(df, 'var1')"
   ]
  },
  {
   "cell_type": "code",
   "execution_count": 9,
   "id": "4b41fb4c",
   "metadata": {},
   "outputs": [],
   "source": [
    "def plot_area(df, col):\n",
    "    kargs = {\n",
    "        'figsize': (10, 5),\n",
    "        'ylabel': 'contagem',\n",
    "    }\n",
    "    df.groupby([col, 'y'])[col].count().unstack().plot.area(**kargs)"
   ]
  },
  {
   "cell_type": "code",
   "execution_count": 10,
   "id": "ec2adacf",
   "metadata": {},
   "outputs": [
    {
     "data": {
      "image/png": "[encoded data removed]",
      "text/plain": [
       "<Figure size 720x360 with 1 Axes>"
      ]
     },
     "metadata": {
      "needs_background": "light"
     },
     "output_type": "display_data"
    }
   ],
   "source": [
    "plot_area(df, 'var1')"
   ]
  },
  {
   "cell_type": "markdown",
   "id": "3a9ef1bf",
   "metadata": {},
   "source": [
    "# 4. Modelo Aleatório"
   ]
  },
  {
   "cell_type": "code",
   "execution_count": 11,
   "id": "af483a1f",
   "metadata": {},
   "outputs": [
    {
     "name": "stdout",
     "output_type": "stream",
     "text": [
      "F1-score correspondente a um modelo aleatório: 0.29689\n"
     ]
    }
   ],
   "source": [
    "from sklearn.dummy import DummyClassifier\n",
    "from sklearn.metrics import f1_score\n",
    "\n",
    "\n",
    "clf = DummyClassifier(strategy='uniform', random_state=42)\n",
    "\n",
    "X, y = df.drop('y', axis=1), df.y\n",
    "clf.fit(X, y)\n",
    "\n",
    "y_pred = clf.predict(y)\n",
    "score = f1_score(y, y_pred)\n",
    "\n",
    "print(f'F1-score correspondente a um modelo aleatório: {score:.5f}')"
   ]
  },
  {
   "cell_type": "markdown",
   "id": "921cc735",
   "metadata": {},
   "source": [
    "# 5. Treinamento do modelo"
   ]
  },
  {
   "cell_type": "code",
   "execution_count": 12,
   "id": "b2f48166",
   "metadata": {},
   "outputs": [],
   "source": [
    "from model import Model"
   ]
  },
  {
   "cell_type": "code",
   "execution_count": 13,
   "id": "cc4735af",
   "metadata": {},
   "outputs": [],
   "source": [
    "n_features = 20\n",
    "n_bins = 100\n",
    "\n",
    "model = Model(n_features, n_bins)"
   ]
  },
  {
   "cell_type": "code",
   "execution_count": 14,
   "id": "8c224ad4",
   "metadata": {},
   "outputs": [
    {
     "name": "stdout",
     "output_type": "stream",
     "text": [
      "F1-score na iteração 1: 0.00000\n",
      "F1-score na iteração 2: 0.38580\n",
      "F1-score na iteração 3: 0.38693\n",
      "F1-score na iteração 4: 0.56428\n",
      "F1-score na iteração 5: 0.57219\n",
      "F1-score na iteração 6: 0.57640\n",
      "F1-score na iteração 7: 0.57796\n",
      "F1-score na iteração 8: 0.63597\n",
      "F1-score na iteração 9: 0.63822\n",
      "F1-score na iteração 10: 0.63822\n",
      "F1-score na iteração 11: 0.63822\n",
      "F1-score na iteração 12: 0.63822\n",
      "F1-score na iteração 13: 0.63822\n",
      "F1-score na iteração 14: 0.63822\n",
      "F1-score na iteração 15: 0.63822\n",
      "F1-score na iteração 16: 0.63822\n",
      "F1-score na iteração 17: 0.63822\n",
      "F1-score na iteração 18: 0.63933\n",
      "F1-score na iteração 19: 0.63933\n",
      "F1-score na iteração 20: 0.64437\n",
      "CPU times: user 2min, sys: 12.8 s, total: 2min 12s\n",
      "Wall time: 2min 12s\n"
     ]
    }
   ],
   "source": [
    "%%time\n",
    "model.train(X, y)"
   ]
  },
  {
   "cell_type": "markdown",
   "id": "65fa4f60",
   "metadata": {},
   "source": [
    "# 6. Criar arquivo de previsões"
   ]
  },
  {
   "cell_type": "code",
   "execution_count": 15,
   "id": "2af9e1fe",
   "metadata": {},
   "outputs": [
    {
     "data": {
      "text/plain": [
       "(21183, 68)"
      ]
     },
     "execution_count": 15,
     "metadata": {},
     "output_type": "execute_result"
    }
   ],
   "source": [
    "path = 'data/test.csv.zip'\n",
    "\n",
    "kargs = {\n",
    "    'index_col': 'id',\n",
    "    'na_values': -999.,\n",
    "}\n",
    "df_test = pd.read_csv(path, **kargs)\n",
    "df_test.shape"
   ]
  },
  {
   "cell_type": "markdown",
   "id": "193b6ef6",
   "metadata": {},
   "source": [
    "## Submeter solução para a plataforma do Kaggle\n",
    "\n",
    "Para realizar a submissão utilize o parâmetro `upload=True`. "
   ]
  },
  {
   "cell_type": "code",
   "execution_count": 16,
   "id": "66a808e8",
   "metadata": {},
   "outputs": [],
   "source": [
    "outfile = 'submission-2709.csv'\n",
    "model.submit(df_test, outfile, upload=False)"
   ]
  }
 ],
 "metadata": {
  "kernelspec": {
   "display_name": "Python 3 (ipykernel)",
   "language": "python",
   "name": "python3"
  },
  "language_info": {
   "codemirror_mode": {
    "name": "ipython",
    "version": 3
   },
   "file_extension": ".py",
   "mimetype": "text/x-python",
   "name": "python",
   "nbconvert_exporter": "python",
   "pygments_lexer": "ipython3",
   "version": "3.7.10"
  }
 },
 "nbformat": 4,
 "nbformat_minor": 5
}
